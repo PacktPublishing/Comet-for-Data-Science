{
 "cells": [
  {
   "cell_type": "markdown",
   "id": "20d87f5f",
   "metadata": {},
   "source": [
    "# EDA Techniques\n",
    "[Link to the original dataset](https://www.kaggle.com/jessemostipak/hotel-booking-demand?select=hotel_bookings.csv)\n",
    "\n",
    "# 1 Load and prepare the dataset"
   ]
  },
  {
   "cell_type": "code",
   "execution_count": null,
   "id": "714f2d38",
   "metadata": {},
   "outputs": [],
   "source": [
    "import pandas as pd\n",
    "\n",
    "df = pd.read_csv('source/hotel_bookings.csv')\n",
    "df.head()"
   ]
  },
  {
   "cell_type": "code",
   "execution_count": null,
   "id": "e55b993d",
   "metadata": {},
   "outputs": [],
   "source": [
    "df.shape"
   ]
  },
  {
   "cell_type": "code",
   "execution_count": null,
   "id": "c967a3a9",
   "metadata": {},
   "outputs": [],
   "source": [
    "df.columns"
   ]
  },
  {
   "cell_type": "markdown",
   "id": "209089c5",
   "metadata": {},
   "source": [
    "## Prepare the dataset"
   ]
  },
  {
   "cell_type": "code",
   "execution_count": null,
   "id": "50468c6c",
   "metadata": {},
   "outputs": [],
   "source": [
    "from datetime import datetime\n",
    "def get_month(x):\n",
    "    month_name = datetime.strptime(x, \"%B\")\n",
    "    return month_name.month\n",
    "df['arrival_date_month_number'] = df['arrival_date_month'].apply(lambda x: get_month(x))"
   ]
  },
  {
   "cell_type": "code",
   "execution_count": null,
   "id": "378cb6c9",
   "metadata": {},
   "outputs": [],
   "source": [
    "df['arrival_date'] = df[['arrival_date_year','arrival_date_month_number','arrival_date_day_of_month']].apply(\n",
    "    lambda x: '-'.join(x.dropna().astype(str)),\n",
    "    axis=1\n",
    ")\n",
    "df['arrival_date'] = pd.to_datetime(df['arrival_date'])"
   ]
  },
  {
   "cell_type": "code",
   "execution_count": null,
   "id": "b277743d",
   "metadata": {},
   "outputs": [],
   "source": [
    "def get_season(date):\n",
    "    md = date.month * 100 + date.day\n",
    "\n",
    "    if ((md > 320) and (md < 621)):\n",
    "        return 'spring'\n",
    "    elif ((md > 620) and (md < 923)):\n",
    "        return 'summer'\n",
    "    elif ((md > 922) and (md < 1223)):\n",
    "        return 'fall'\n",
    "    else:\n",
    "        return 'winter'"
   ]
  },
  {
   "cell_type": "code",
   "execution_count": null,
   "id": "16360b94",
   "metadata": {},
   "outputs": [],
   "source": [
    "df['arrival_season'] = df['arrival_date'].apply(lambda x: get_season(x))"
   ]
  },
  {
   "cell_type": "markdown",
   "id": "ef483720",
   "metadata": {},
   "source": [
    "# 2 Non-visual EDA"
   ]
  },
  {
   "cell_type": "code",
   "execution_count": null,
   "id": "24ca7389",
   "metadata": {},
   "outputs": [],
   "source": [
    "from pandas_profiling import ProfileReport\n",
    "\n",
    "profile = ProfileReport(df, title=\"Hotel Booking Report\")\n",
    "profile.to_file(\"hotel_bookings_eda.html\")"
   ]
  },
  {
   "cell_type": "markdown",
   "id": "c36d7075",
   "metadata": {},
   "source": [
    "# 3 Visual EDA\n",
    "## 3.1 Univariate Analysis\n",
    "\n",
    "### Categorical Variables\n",
    "\n",
    "1) countplot"
   ]
  },
  {
   "cell_type": "code",
   "execution_count": null,
   "id": "6fd7aea4",
   "metadata": {},
   "outputs": [],
   "source": [
    "import matplotlib.pyplot as plt\n",
    "import seaborn as sns\n",
    "\n",
    "plt.figure(figsize=(15,6))\n",
    "\n",
    "values = df['arrival_date_month'].value_counts()\n",
    "colors = sns.color_palette('mako_r')\n",
    "sns.set(font_scale=1.2)\n",
    "sns.countplot(df['arrival_date_month'], palette=colors)\n",
    "plt.show()"
   ]
  },
  {
   "cell_type": "markdown",
   "id": "0ebbdb67",
   "metadata": {},
   "source": [
    "2) pie chart"
   ]
  },
  {
   "cell_type": "code",
   "execution_count": null,
   "id": "348e3039",
   "metadata": {},
   "outputs": [],
   "source": [
    "plt.figure(figsize=(10,10))\n",
    "values = df['arrival_date_month'].value_counts()\n",
    "values.plot(kind='pie', colors = colors,fontsize=17, autopct='%.2f')\n",
    "plt.legend(labels=values.index, loc=\"best\")\n",
    "plt.show()"
   ]
  },
  {
   "cell_type": "markdown",
   "id": "b5d79b46",
   "metadata": {},
   "source": [
    "### Numerical Variables\n",
    "\n",
    "1) histogram"
   ]
  },
  {
   "cell_type": "code",
   "execution_count": null,
   "id": "d2fcecc9",
   "metadata": {},
   "outputs": [],
   "source": [
    "plt.figure(figsize=(15,6))\n",
    "sns.set(font_scale=2)\n",
    "plt.xlabel('stays_in_week_nights')\n",
    "plt.ylabel('distribution')\n",
    "plt.hist(df['stays_in_week_nights'], bins=50, color='#40B7AD')\n",
    "plt.show()"
   ]
  },
  {
   "cell_type": "markdown",
   "id": "cbacde85",
   "metadata": {},
   "source": [
    "2) distplot"
   ]
  },
  {
   "cell_type": "code",
   "execution_count": null,
   "id": "0cfd7119",
   "metadata": {},
   "outputs": [],
   "source": [
    "plt.figure(figsize=(15,6))\n",
    "sns.set(font_scale=2)\n",
    "sns.distplot(df['stays_in_week_nights'], color='#40B7AD')\n",
    "plt.show()"
   ]
  },
  {
   "cell_type": "markdown",
   "id": "638d4b12",
   "metadata": {},
   "source": [
    "3) boxplot"
   ]
  },
  {
   "cell_type": "code",
   "execution_count": null,
   "id": "f08d8854",
   "metadata": {},
   "outputs": [],
   "source": [
    "plt.figure(figsize=(15,6))\n",
    "sns.set(font_scale=2)\n",
    "sns.boxplot(df['stays_in_week_nights'], color='#40B7AD')\n",
    "plt.show()"
   ]
  },
  {
   "cell_type": "markdown",
   "id": "7649465a",
   "metadata": {},
   "source": [
    "4) violin plot"
   ]
  },
  {
   "cell_type": "code",
   "execution_count": null,
   "id": "5c708451",
   "metadata": {},
   "outputs": [],
   "source": [
    "plt.figure(figsize=(15,6))\n",
    "sns.set(font_scale=2)\n",
    "sns.violinplot(df['stays_in_week_nights'], color='#40B7AD')\n",
    "plt.show()"
   ]
  },
  {
   "cell_type": "markdown",
   "id": "784d7599",
   "metadata": {},
   "source": [
    "## 3.2 Bivariate Analysis\n",
    "\n",
    "### Numerical to Numerical\n",
    "\n",
    "1) scatter plot"
   ]
  },
  {
   "cell_type": "code",
   "execution_count": null,
   "id": "fdd8da0c",
   "metadata": {},
   "outputs": [],
   "source": [
    "plt.figure(figsize=(15,6))\n",
    "sns.set(font_scale=2)\n",
    "sns.scatterplot(df['adults'], df['stays_in_week_nights'],color='#40B7AD')\n",
    "plt.show()"
   ]
  },
  {
   "cell_type": "markdown",
   "id": "9a9e427f",
   "metadata": {},
   "source": [
    "### Numerical to categorical\n",
    "\n",
    "1) bar plot"
   ]
  },
  {
   "cell_type": "code",
   "execution_count": null,
   "id": "e2a19986",
   "metadata": {},
   "outputs": [],
   "source": [
    "plt.figure(figsize=(15,6))\n",
    "sns.set(font_scale=2)\n",
    "sns.barplot(df['adults'], df['arrival_date_month'],color='#40B7AD')\n",
    "plt.show()"
   ]
  },
  {
   "cell_type": "markdown",
   "id": "1fba5607",
   "metadata": {},
   "source": [
    "### Categorical to categorical\n",
    "\n",
    "1) heatmap"
   ]
  },
  {
   "cell_type": "code",
   "execution_count": null,
   "id": "be72fe8e",
   "metadata": {},
   "outputs": [],
   "source": [
    "plt.figure(figsize=(15,6))\n",
    "sns.set(font_scale=2)\n",
    "sns.heatmap(pd.crosstab(df['customer_type'], df['arrival_date_month']), cmap='mako_r')\n",
    "plt.show()"
   ]
  },
  {
   "cell_type": "markdown",
   "id": "61093802",
   "metadata": {},
   "source": [
    "# 4 Comet for EDA"
   ]
  },
  {
   "cell_type": "code",
   "execution_count": null,
   "id": "7110f264",
   "metadata": {},
   "outputs": [],
   "source": [
    "# import comet_ml at the top of your file\n",
    "from comet_ml import Experiment\n",
    "\n",
    "# Create an experiment with your api key\n",
    "experiment = Experiment()"
   ]
  },
  {
   "cell_type": "code",
   "execution_count": null,
   "id": "e8ec4680",
   "metadata": {},
   "outputs": [],
   "source": [
    "experiment.log_dataframe_profile(df, \"hotel_bookings\")"
   ]
  },
  {
   "cell_type": "code",
   "execution_count": null,
   "id": "96bd3d6e",
   "metadata": {},
   "outputs": [],
   "source": [
    "# select families (at least two adults)\n",
    "families = df[df['adults'] > 1]\n",
    "families.set_index('arrival_date', inplace=True)"
   ]
  },
  {
   "cell_type": "code",
   "execution_count": null,
   "id": "592bfd2a",
   "metadata": {},
   "outputs": [],
   "source": [
    "ts_families = families['adults'].groupby('arrival_date').count()"
   ]
  },
  {
   "cell_type": "code",
   "execution_count": null,
   "id": "b152aae9",
   "metadata": {},
   "outputs": [],
   "source": [
    "import time\n",
    "import datetime\n",
    "for i in ts_families.index:\n",
    "    index = time.mktime(i.timetuple())\n",
    "\n",
    "    experiment.log_metric(\"ts_families\", ts_families[i], step=index)"
   ]
  },
  {
   "cell_type": "code",
   "execution_count": null,
   "id": "cf623940",
   "metadata": {},
   "outputs": [],
   "source": [
    "experiment.end()"
   ]
  },
  {
   "cell_type": "markdown",
   "id": "00e746fb",
   "metadata": {},
   "source": [
    "# 5 Sweetviz"
   ]
  },
  {
   "cell_type": "code",
   "execution_count": null,
   "id": "b29f7645",
   "metadata": {},
   "outputs": [],
   "source": [
    "import sweetviz as sv\n",
    "\n",
    "report = sv.analyze(df)\n",
    "report.show_html('report.html') # Default arguments will generate to \"SWEETVIZ_REPORT.html\""
   ]
  },
  {
   "cell_type": "code",
   "execution_count": null,
   "id": "7401fe51",
   "metadata": {},
   "outputs": [],
   "source": [
    "# import comet_ml at the top of your file\n",
    "from comet_ml import Experiment\n",
    "\n",
    "# Create an experiment with your api key\n",
    "experiment = Experiment()\n",
    "report.log_comet(experiment)\n",
    "experiment.end()"
   ]
  },
  {
   "cell_type": "code",
   "execution_count": null,
   "id": "5d59dd8f",
   "metadata": {},
   "outputs": [],
   "source": []
  }
 ],
 "metadata": {
  "kernelspec": {
   "display_name": "Python 3 (ipykernel)",
   "language": "python",
   "name": "python3"
  },
  "language_info": {
   "codemirror_mode": {
    "name": "ipython",
    "version": 3
   },
   "file_extension": ".py",
   "mimetype": "text/x-python",
   "name": "python",
   "nbconvert_exporter": "python",
   "pygments_lexer": "ipython3",
   "version": "3.8.10"
  }
 },
 "nbformat": 4,
 "nbformat_minor": 5
}
