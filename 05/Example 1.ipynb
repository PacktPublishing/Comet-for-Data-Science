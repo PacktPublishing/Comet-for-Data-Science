{
 "cells": [
  {
   "cell_type": "markdown",
   "id": "76c3bb92",
   "metadata": {},
   "source": [
    "# Example 1\n",
    "\n",
    "Data are extracted from [here](https://community.storytellingwithdata.com/exercises/how-can-we-improve-this-graph)"
   ]
  },
  {
   "cell_type": "code",
   "execution_count": 2,
   "id": "94a82248",
   "metadata": {},
   "outputs": [
    {
     "name": "stderr",
     "output_type": "stream",
     "text": [
      "COMET WARNING: As you are running in a Jupyter environment, you will need to call `experiment.end()` when finished to ensure all metrics and code are logged before exiting.\n",
      "COMET INFO: Couldn't find a Git repository in '/Users/angelica/Packt/Comet/Code/05' nor in any parent directory. You can override where Comet is looking for a Git Patch by setting the configuration `COMET_GIT_DIRECTORY`\n",
      "COMET INFO: Experiment is live on comet.ml https://www.comet.ml/packt/data-narrative-1/c2f37bae43f94972a2d1e80a1e8a57ca\n",
      "\n"
     ]
    }
   ],
   "source": [
    "from comet_ml import Experiment\n",
    "\n",
    "experiment = Experiment(project_name=\"data-narrative-1\")"
   ]
  },
  {
   "cell_type": "code",
   "execution_count": 3,
   "id": "48945b82",
   "metadata": {},
   "outputs": [
    {
     "data": {
      "text/html": [
       "<div><div id=f5a25440-3243-436d-b354-9048795b95bc style=\"display:none; background-color:#9D6CFF; color:white; width:200px; height:30px; padding-left:5px; border-radius:4px; flex-direction:row; justify-content:space-around; align-items:center;\" onmouseover=\"this.style.backgroundColor='#BA9BF8'\" onmouseout=\"this.style.backgroundColor='#9D6CFF'\" onclick=\"window.commands?.execute('create-mitosheet-from-dataframe-output');\">See Full Dataframe in Mito</div> <script> if (window.commands.hasCommand('create-mitosheet-from-dataframe-output')) document.getElementById('f5a25440-3243-436d-b354-9048795b95bc').style.display = 'flex' </script> <table border=\"1\" class=\"dataframe\">\n",
       "  <thead>\n",
       "    <tr style=\"text-align: right;\">\n",
       "      <th></th>\n",
       "      <th>Period</th>\n",
       "      <th>&lt;=24</th>\n",
       "      <th>24 and 36</th>\n",
       "      <th>36 and 48</th>\n",
       "      <th>48 and 59</th>\n",
       "      <th>&gt;=60</th>\n",
       "      <th>Unknown</th>\n",
       "    </tr>\n",
       "  </thead>\n",
       "  <tbody>\n",
       "    <tr>\n",
       "      <th>0</th>\n",
       "      <td>Q1</td>\n",
       "      <td>12.2</td>\n",
       "      <td>53.9</td>\n",
       "      <td>6.3</td>\n",
       "      <td>18.9</td>\n",
       "      <td>6.9</td>\n",
       "      <td>1.8</td>\n",
       "    </tr>\n",
       "    <tr>\n",
       "      <th>1</th>\n",
       "      <td>Q2</td>\n",
       "      <td>14.3</td>\n",
       "      <td>58.3</td>\n",
       "      <td>4.1</td>\n",
       "      <td>16.7</td>\n",
       "      <td>5.9</td>\n",
       "      <td>0.7</td>\n",
       "    </tr>\n",
       "    <tr>\n",
       "      <th>2</th>\n",
       "      <td>Q3</td>\n",
       "      <td>19.5</td>\n",
       "      <td>52.2</td>\n",
       "      <td>2.8</td>\n",
       "      <td>17.4</td>\n",
       "      <td>7.0</td>\n",
       "      <td>1.1</td>\n",
       "    </tr>\n",
       "    <tr>\n",
       "      <th>3</th>\n",
       "      <td>Q4</td>\n",
       "      <td>25.4</td>\n",
       "      <td>50.3</td>\n",
       "      <td>2.7</td>\n",
       "      <td>14.4</td>\n",
       "      <td>5.6</td>\n",
       "      <td>1.7</td>\n",
       "    </tr>\n",
       "  </tbody>\n",
       "</table></div>"
      ],
      "text/plain": [
       "  Period  <=24  24 and 36  36 and 48  48 and 59  >=60  Unknown\n",
       "0     Q1  12.2       53.9        6.3       18.9   6.9      1.8\n",
       "1     Q2  14.3       58.3        4.1       16.7   5.9      0.7\n",
       "2     Q3  19.5       52.2        2.8       17.4   7.0      1.1\n",
       "3     Q4  25.4       50.3        2.7       14.4   5.6      1.7"
      ]
     },
     "execution_count": 3,
     "metadata": {},
     "output_type": "execute_result"
    }
   ],
   "source": [
    "import pandas as pd\n",
    "\n",
    "df = pd.read_csv('source/data1.csv')\n",
    "df.head()"
   ]
  },
  {
   "cell_type": "code",
   "execution_count": 4,
   "id": "854c5a71",
   "metadata": {},
   "outputs": [
    {
     "data": {
      "text/plain": [
       "{'web': 'https://www.comet.ml/api/asset/download?assetId=11047e00ac3f4db9bbbf2dab2cb50873&experimentKey=c2f37bae43f94972a2d1e80a1e8a57ca',\n",
       " 'api': 'https://www.comet.ml/api/rest/v2/experiment/asset/get-asset?assetId=11047e00ac3f4db9bbbf2dab2cb50873&experimentKey=c2f37bae43f94972a2d1e80a1e8a57ca',\n",
       " 'assetId': '11047e00ac3f4db9bbbf2dab2cb50873'}"
      ]
     },
     "execution_count": 4,
     "metadata": {},
     "output_type": "execute_result"
    }
   ],
   "source": [
    "experiment.log_table('data.csv', tabular_data=df)"
   ]
  },
  {
   "cell_type": "code",
   "execution_count": 5,
   "id": "9c4665c0",
   "metadata": {},
   "outputs": [
    {
     "name": "stderr",
     "output_type": "stream",
     "text": [
      "COMET INFO: ---------------------------\n",
      "COMET INFO: Comet.ml Experiment Summary\n",
      "COMET INFO: ---------------------------\n",
      "COMET INFO:   Data:\n",
      "COMET INFO:     display_summary_level : 1\n",
      "COMET INFO:     url                   : https://www.comet.ml/packt/data-narrative-1/c2f37bae43f94972a2d1e80a1e8a57ca\n",
      "COMET INFO:   Uploads:\n",
      "COMET INFO:     dataframe           : 1 (184 bytes)\n",
      "COMET INFO:     environment details : 1\n",
      "COMET INFO:     filename            : 1\n",
      "COMET INFO:     installed packages  : 1\n",
      "COMET INFO:     notebook            : 1\n",
      "COMET INFO:     source_code         : 1\n",
      "COMET INFO: ---------------------------\n",
      "COMET INFO: Uploading metrics, params, and assets to Comet before program termination (may take several seconds)\n",
      "COMET INFO: The Python SDK has 3600 seconds to finish before aborting...\n",
      "COMET INFO: Waiting for completion of the file uploads (may take several seconds)\n",
      "COMET INFO: The Python SDK has 10800 seconds to finish before aborting...\n",
      "COMET INFO: All files uploaded, waiting for confirmation they have been all received\n"
     ]
    }
   ],
   "source": [
    "experiment.end()"
   ]
  },
  {
   "cell_type": "code",
   "execution_count": null,
   "id": "67e56a14",
   "metadata": {},
   "outputs": [],
   "source": []
  }
 ],
 "metadata": {
  "kernelspec": {
   "display_name": "Python 3 (ipykernel)",
   "language": "python",
   "name": "python3"
  },
  "language_info": {
   "codemirror_mode": {
    "name": "ipython",
    "version": 3
   },
   "file_extension": ".py",
   "mimetype": "text/x-python",
   "name": "python",
   "nbconvert_exporter": "python",
   "pygments_lexer": "ipython3",
   "version": "3.8.10"
  }
 },
 "nbformat": 4,
 "nbformat_minor": 5
}
