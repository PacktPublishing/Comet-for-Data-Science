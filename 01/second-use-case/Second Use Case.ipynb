{
 "cells": [
  {
   "cell_type": "markdown",
   "id": "6cdf5e86",
   "metadata": {},
   "source": [
    "# Second Use Case\n",
    "\n",
    "## Create the Experiment"
   ]
  },
  {
   "cell_type": "code",
   "execution_count": 1,
   "id": "c5385025",
   "metadata": {},
   "outputs": [
    {
     "name": "stderr",
     "output_type": "stream",
     "text": [
      "COMET WARNING: As you are running in a Jupyter environment, you will need to call `experiment.end()` when finished to ensure all metrics and code are logged before exiting.\n",
      "COMET ERROR: The given API key AzbjrGVNvJDLMGTmwEUiJW9ah is invalid, please check it against the dashboard. Your experiment would not be logged \n",
      "For more details, please refer to: https://www.comet.ml/docs/python-sdk/warnings-errors/\n"
     ]
    }
   ],
   "source": [
    "from comet_ml import Experiment\n",
    "# Create an experiment with your api key\n",
    "experiment = Experiment()"
   ]
  },
  {
   "cell_type": "markdown",
   "id": "11fb6f46",
   "metadata": {},
   "source": [
    "## Load the dataset"
   ]
  },
  {
   "cell_type": "code",
   "execution_count": 2,
   "id": "1407d052",
   "metadata": {},
   "outputs": [],
   "source": [
    "from sklearn.datasets import load_diabetes\n",
    "\n",
    "diabetes = load_diabetes()\n",
    "X = diabetes.data\n",
    "y = diabetes.target"
   ]
  },
  {
   "cell_type": "markdown",
   "id": "f55dc3b1",
   "metadata": {},
   "source": [
    "## Train the models and calculate MSE"
   ]
  },
  {
   "cell_type": "code",
   "execution_count": 3,
   "id": "6bf88c1d",
   "metadata": {},
   "outputs": [],
   "source": [
    "import numpy as np\n",
    "from sklearn.model_selection import train_test_split\n",
    "from sklearn.linear_model import LinearRegression\n",
    "from sklearn.metrics import mean_squared_error\n",
    "\n",
    "n = 101\n",
    "seed_list = np.arange(0, n, step = 5)\n",
    "\n",
    "for seed in seed_list:\n",
    "    X_train, X_test, y_train, y_test = train_test_split(X, y, test_size=0.20, random_state=seed)\n",
    "    model = LinearRegression()\n",
    "    model.fit(X_train,y_train)\n",
    "    y_pred = model.predict(X_test)\n",
    "    mse = mean_squared_error(y_test,y_pred)\n",
    "    experiment.log_metric(\"MSE\", mse, step=seed)\n",
    "experiment.end()"
   ]
  },
  {
   "cell_type": "code",
   "execution_count": null,
   "id": "d65ca52c",
   "metadata": {},
   "outputs": [],
   "source": []
  }
 ],
 "metadata": {
  "kernelspec": {
   "display_name": "Python 3 (ipykernel)",
   "language": "python",
   "name": "python3"
  },
  "language_info": {
   "codemirror_mode": {
    "name": "ipython",
    "version": 3
   },
   "file_extension": ".py",
   "mimetype": "text/x-python",
   "name": "python",
   "nbconvert_exporter": "python",
   "pygments_lexer": "ipython3",
   "version": "3.8.10"
  }
 },
 "nbformat": 4,
 "nbformat_minor": 5
}
