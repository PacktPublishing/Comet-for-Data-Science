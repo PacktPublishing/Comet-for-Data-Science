{
 "cells": [
  {
   "cell_type": "markdown",
   "id": "52d2f39d",
   "metadata": {},
   "source": [
    "# Model Evaluation\n",
    "\n",
    "[Link to the dataset](https://www.kaggle.com/mikecalgary/diamond-model-optimization-for-99-accuracy)\n",
    "\n",
    "## Loading and preparing the dataset"
   ]
  },
  {
   "cell_type": "code",
   "execution_count": null,
   "id": "7f7167c7",
   "metadata": {},
   "outputs": [],
   "source": [
    "import warnings\n",
    "warnings.filterwarnings(\"ignore\")"
   ]
  },
  {
   "cell_type": "code",
   "execution_count": null,
   "id": "3fee775d",
   "metadata": {},
   "outputs": [],
   "source": [
    "from comet_ml import Experiment\n",
    "import pandas as pd\n",
    "\n",
    "df = pd.read_csv('source/diamonds.csv')\n",
    "df.head()"
   ]
  },
  {
   "cell_type": "code",
   "execution_count": null,
   "id": "3a7bd741",
   "metadata": {},
   "outputs": [],
   "source": [
    "df.shape"
   ]
  },
  {
   "cell_type": "code",
   "execution_count": null,
   "id": "d254c5cc",
   "metadata": {},
   "outputs": [],
   "source": [
    "df = df.drop([\"Unnamed: 0\"], axis=1)"
   ]
  },
  {
   "cell_type": "code",
   "execution_count": null,
   "id": "823ef590",
   "metadata": {},
   "outputs": [],
   "source": [
    "from sklearn.preprocessing import LabelEncoder\n",
    "\n",
    "def encode_labels(data):\n",
    "    categories = (data.dtypes ==\"object\")\n",
    "    cat_cols = list(categories[categories].index)\n",
    "    \n",
    "    feature_label_encoder_dict = {}\n",
    "    for col in cat_cols:\n",
    "        feature_label_encoder_dict[col] = LabelEncoder()\n",
    "        X[col] = feature_label_encoder_dict[col].fit_transform(X[col])"
   ]
  },
  {
   "cell_type": "code",
   "execution_count": null,
   "id": "91b7278d",
   "metadata": {},
   "outputs": [],
   "source": [
    "from sklearn.preprocessing import StandardScaler\n",
    "\n",
    "def scale_numerical(data):\n",
    "    scaler = StandardScaler()\n",
    "    data[data.columns] = scaler.fit_transform(data[data.columns])"
   ]
  },
  {
   "cell_type": "markdown",
   "id": "9d882508",
   "metadata": {},
   "source": [
    "## Classification"
   ]
  },
  {
   "cell_type": "code",
   "execution_count": null,
   "id": "6112a255",
   "metadata": {},
   "outputs": [],
   "source": [
    "def set_target(x):\n",
    "    golden_set = ['Ideal', 'Premium', 'Very Good']\n",
    "    if x in golden_set:\n",
    "        return 'Gold'\n",
    "    return 'Silver'\n",
    "df['target'] = df['cut'].apply(lambda x: set_target(x))\n",
    "df.drop(\"cut\", axis = 1,inplace=True)"
   ]
  },
  {
   "cell_type": "code",
   "execution_count": null,
   "id": "8ff1fcee",
   "metadata": {},
   "outputs": [],
   "source": [
    "X = df.drop(\"target\", axis = 1)\n",
    "y = df[\"target\"]"
   ]
  },
  {
   "cell_type": "code",
   "execution_count": null,
   "id": "f68ecd01",
   "metadata": {},
   "outputs": [],
   "source": [
    "encode_labels(X)\n",
    "scale_numerical(X)"
   ]
  },
  {
   "cell_type": "code",
   "execution_count": null,
   "id": "7865b035",
   "metadata": {},
   "outputs": [],
   "source": [
    "label_encoder = LabelEncoder()\n",
    "y = label_encoder.fit_transform(y)"
   ]
  },
  {
   "cell_type": "code",
   "execution_count": null,
   "id": "b72d3b24",
   "metadata": {},
   "outputs": [],
   "source": [
    "from sklearn.model_selection import train_test_split\n",
    "X_train, X_test, y_train, y_test = train_test_split(X, y, test_size=0.20, random_state=42)"
   ]
  },
  {
   "cell_type": "code",
   "execution_count": null,
   "id": "017bc33a",
   "metadata": {},
   "outputs": [],
   "source": [
    "from sklearn.metrics import precision_score, recall_score, f1_score, accuracy_score\n",
    "\n",
    "def compute_metrics(y_pred, y_true):\n",
    "    metrics = {}\n",
    "    metrics['precision'] = precision_score(y_true, y_pred)\n",
    "    metrics['recall'] = recall_score(y_true, y_pred)\n",
    "    metrics['f1-score'] = f1_score(y_true, y_pred)\n",
    "    metrics['accuracy'] =  accuracy_score(y_true, y_pred)\n",
    "    return metrics"
   ]
  },
  {
   "cell_type": "code",
   "execution_count": null,
   "id": "8aad5c22",
   "metadata": {},
   "outputs": [],
   "source": [
    "from sklearn.metrics import roc_curve\n",
    "import pickle\n",
    "\n",
    "def run_experiment(ModelClass, name):\n",
    "    experiment = Experiment()\n",
    "    experiment.set_name(name)\n",
    "    experiment.add_tag(name)\n",
    "    \n",
    "    model = ModelClass()\n",
    "    with experiment.train():    \n",
    "        model.fit(X_train, y_train)\n",
    "        y_pred = model.predict(X_train)\n",
    "        metrics = compute_metrics(y_pred, y_train)\n",
    "        experiment.log_metrics(metrics)\n",
    "        experiment.log_confusion_matrix(y_train, y_pred)\n",
    "        \n",
    "        file_name = name + '.pkl'\n",
    "        with open(file_name, 'wb') as file:  \n",
    "            pickle.dump(model, file)\n",
    "            experiment.log_model(name, file_name)\n",
    "        \n",
    "    \n",
    "    with experiment.validate():\n",
    "        y_pred = model.predict(X_test)\n",
    "        metrics = compute_metrics(y_pred, y_test)\n",
    "        experiment.log_metrics(metrics)\n",
    "        experiment.log_confusion_matrix(y_test, y_pred)\n",
    "        fpr, tpr, _ = roc_curve(y_test, y_pred)\n",
    "        experiment.log_curve(name, fpr, tpr)\n",
    "        \n",
    "    experiment.end()"
   ]
  },
  {
   "cell_type": "code",
   "execution_count": null,
   "id": "10bf8257",
   "metadata": {},
   "outputs": [],
   "source": [
    "from sklearn.ensemble import RandomForestClassifier\n",
    "from sklearn.tree import DecisionTreeClassifier\n",
    "from sklearn.naive_bayes import GaussianNB\n",
    "from sklearn.neighbors import KNeighborsClassifier\n",
    "\n",
    "run_experiment(RandomForestClassifier, 'RandomForest')\n",
    "run_experiment(DecisionTreeClassifier, 'DecisionTreeClassifier')\n",
    "run_experiment(GaussianNB, 'GaussianNB')\n",
    "run_experiment(KNeighborsClassifier, 'KNeighborsClassifier')"
   ]
  },
  {
   "cell_type": "code",
   "execution_count": null,
   "id": "112457c1",
   "metadata": {},
   "outputs": [],
   "source": [
    "\n",
    "def run_experiment_with_epoch(ModelClass, name, n_epochs):\n",
    "    experiment = Experiment()\n",
    "    experiment.set_name(name)\n",
    "    experiment.add_tag(name)\n",
    "    experiment.add_tag('epoch')\n",
    "    \n",
    "    with experiment.train():\n",
    "        for i in range(n_epochs):\n",
    "            model = ModelClass(max_iter=n_epochs)\n",
    "            model.fit(X_train, y_train)\n",
    "            y_pred = model.predict(X_train)\n",
    "            metrics = compute_metrics(y_pred, y_train)\n",
    "            experiment.log_metrics(metrics, epoch = i)\n",
    "            experiment.log_confusion_matrix(y_train, y_pred, epoch=i)\n",
    "    \n",
    "    with experiment.validate():\n",
    "        y_pred = model.predict(X_test)\n",
    "        metrics = compute_metrics(y_pred, y_test)\n",
    "        experiment.log_metrics(metrics)\n",
    "        experiment.log_confusion_matrix(y_test, y_pred)\n",
    "        \n",
    "        \n",
    "    experiment.end()"
   ]
  },
  {
   "cell_type": "code",
   "execution_count": null,
   "id": "ce9a9257",
   "metadata": {},
   "outputs": [],
   "source": [
    "from sklearn.linear_model import SGDClassifier\n",
    "run_experiment_with_epoch(SGDClassifier, 'SGD',100)"
   ]
  },
  {
   "cell_type": "code",
   "execution_count": null,
   "id": "f72424f8",
   "metadata": {},
   "outputs": [],
   "source": [
    "def run_experiment_with_steps(ModelClass, name):\n",
    "    step_size = len(X_train)\n",
    "    min_steps = 20\n",
    "    experiment = Experiment()\n",
    "    experiment.set_name(name)\n",
    "    experiment.add_tag(name)\n",
    "    \n",
    "    with experiment.train():\n",
    "        for i in np.arange(min_steps, step_size+1, step = 5000):\n",
    "            model = ModelClass()\n",
    "            X_t = X_train[0:i]\n",
    "            y_t = y_train[0:i]\n",
    "            model.fit(X_t, y_t)\n",
    "            y_pred = model.predict(X_t)\n",
    "            metrics = compute_metrics(y_pred, y_t)\n",
    "            experiment.log_metrics(metrics, step = i)\n",
    "            experiment.log_confusion_matrix(y_t, y_pred, step=i)\n",
    "    \n",
    "    with experiment.validate():\n",
    "        y_pred = model.predict(X_test)\n",
    "        metrics = compute_metrics(y_pred, y_test)\n",
    "        experiment.log_metrics(metrics)\n",
    "        experiment.log_confusion_matrix(y_test, y_pred)\n",
    "        fpr, tpr, _ = roc_curve(y_test, y_pred)\n",
    "        experiment.log_curve(name, fpr, tpr)\n",
    "        \n",
    "    experiment.end()"
   ]
  },
  {
   "cell_type": "code",
   "execution_count": null,
   "id": "9459d5a3",
   "metadata": {},
   "outputs": [],
   "source": [
    "run_experiment_with_steps(RandomForestClassifier, 'RandomForestWithSteps')\n",
    "run_experiment_with_steps(DecisionTreeClassifier, 'DecisionTreeWithSteps')\n",
    "run_experiment_with_steps(GaussianNB, 'GaussianNBWithSteps')\n",
    "run_experiment_with_steps(KNeighborsClassifier, 'KNeighborsClassifierWithSteps')"
   ]
  },
  {
   "cell_type": "code",
   "execution_count": null,
   "id": "67b4315a",
   "metadata": {},
   "outputs": [],
   "source": []
  }
 ],
 "metadata": {
  "kernelspec": {
   "display_name": "Python 3 (ipykernel)",
   "language": "python",
   "name": "python3"
  },
  "language_info": {
   "codemirror_mode": {
    "name": "ipython",
    "version": 3
   },
   "file_extension": ".py",
   "mimetype": "text/x-python",
   "name": "python",
   "nbconvert_exporter": "python",
   "pygments_lexer": "ipython3",
   "version": "3.8.10"
  }
 },
 "nbformat": 4,
 "nbformat_minor": 5
}
