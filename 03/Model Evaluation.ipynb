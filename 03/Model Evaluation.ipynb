{
 "cells": [
  {
   "cell_type": "markdown",
   "id": "52d2f39d",
   "metadata": {},
   "source": [
    "# Model Evaluation\n",
    "\n",
    "[Link to the dataset](https://www.kaggle.com/mikecalgary/diamond-model-optimization-for-99-accuracy)\n",
    "\n",
    "## Loading and preparing the dataset"
   ]
  },
  {
   "cell_type": "code",
   "execution_count": 1,
   "id": "d75675b3",
   "metadata": {},
   "outputs": [],
   "source": [
    "import warnings\n",
    "warnings.filterwarnings(\"ignore\")"
   ]
  },
  {
   "cell_type": "code",
   "execution_count": 2,
   "id": "3fee775d",
   "metadata": {},
   "outputs": [
    {
     "data": {
      "text/html": [
       "<div><div id=47a6b198-603f-4981-835f-725599fb39ab style=\"display:none; background-color:#9D6CFF; color:white; width:200px; height:30px; padding-left:5px; border-radius:4px; flex-direction:row; justify-content:space-around; align-items:center;\" onmouseover=\"this.style.backgroundColor='#BA9BF8'\" onmouseout=\"this.style.backgroundColor='#9D6CFF'\" onclick=\"window.commands?.execute('create-mitosheet-from-dataframe-output');\">See Full Dataframe in Mito</div> <script> if (window.commands.hasCommand('create-mitosheet-from-dataframe-output')) document.getElementById('47a6b198-603f-4981-835f-725599fb39ab').style.display = 'flex' </script> <table border=\"1\" class=\"dataframe\">\n",
       "  <thead>\n",
       "    <tr style=\"text-align: right;\">\n",
       "      <th></th>\n",
       "      <th>Unnamed: 0</th>\n",
       "      <th>carat</th>\n",
       "      <th>cut</th>\n",
       "      <th>color</th>\n",
       "      <th>clarity</th>\n",
       "      <th>depth</th>\n",
       "      <th>table</th>\n",
       "      <th>price</th>\n",
       "      <th>x</th>\n",
       "      <th>y</th>\n",
       "      <th>z</th>\n",
       "    </tr>\n",
       "  </thead>\n",
       "  <tbody>\n",
       "    <tr>\n",
       "      <th>0</th>\n",
       "      <td>1</td>\n",
       "      <td>0.23</td>\n",
       "      <td>Ideal</td>\n",
       "      <td>E</td>\n",
       "      <td>SI2</td>\n",
       "      <td>61.5</td>\n",
       "      <td>55.0</td>\n",
       "      <td>326</td>\n",
       "      <td>3.95</td>\n",
       "      <td>3.98</td>\n",
       "      <td>2.43</td>\n",
       "    </tr>\n",
       "    <tr>\n",
       "      <th>1</th>\n",
       "      <td>2</td>\n",
       "      <td>0.21</td>\n",
       "      <td>Premium</td>\n",
       "      <td>E</td>\n",
       "      <td>SI1</td>\n",
       "      <td>59.8</td>\n",
       "      <td>61.0</td>\n",
       "      <td>326</td>\n",
       "      <td>3.89</td>\n",
       "      <td>3.84</td>\n",
       "      <td>2.31</td>\n",
       "    </tr>\n",
       "    <tr>\n",
       "      <th>2</th>\n",
       "      <td>3</td>\n",
       "      <td>0.23</td>\n",
       "      <td>Good</td>\n",
       "      <td>E</td>\n",
       "      <td>VS1</td>\n",
       "      <td>56.9</td>\n",
       "      <td>65.0</td>\n",
       "      <td>327</td>\n",
       "      <td>4.05</td>\n",
       "      <td>4.07</td>\n",
       "      <td>2.31</td>\n",
       "    </tr>\n",
       "    <tr>\n",
       "      <th>3</th>\n",
       "      <td>4</td>\n",
       "      <td>0.29</td>\n",
       "      <td>Premium</td>\n",
       "      <td>I</td>\n",
       "      <td>VS2</td>\n",
       "      <td>62.4</td>\n",
       "      <td>58.0</td>\n",
       "      <td>334</td>\n",
       "      <td>4.20</td>\n",
       "      <td>4.23</td>\n",
       "      <td>2.63</td>\n",
       "    </tr>\n",
       "    <tr>\n",
       "      <th>4</th>\n",
       "      <td>5</td>\n",
       "      <td>0.31</td>\n",
       "      <td>Good</td>\n",
       "      <td>J</td>\n",
       "      <td>SI2</td>\n",
       "      <td>63.3</td>\n",
       "      <td>58.0</td>\n",
       "      <td>335</td>\n",
       "      <td>4.34</td>\n",
       "      <td>4.35</td>\n",
       "      <td>2.75</td>\n",
       "    </tr>\n",
       "  </tbody>\n",
       "</table></div>"
      ],
      "text/plain": [
       "   Unnamed: 0  carat      cut color clarity  depth  table  price     x     y  \\\n",
       "0           1   0.23    Ideal     E     SI2   61.5   55.0    326  3.95  3.98   \n",
       "1           2   0.21  Premium     E     SI1   59.8   61.0    326  3.89  3.84   \n",
       "2           3   0.23     Good     E     VS1   56.9   65.0    327  4.05  4.07   \n",
       "3           4   0.29  Premium     I     VS2   62.4   58.0    334  4.20  4.23   \n",
       "4           5   0.31     Good     J     SI2   63.3   58.0    335  4.34  4.35   \n",
       "\n",
       "      z  \n",
       "0  2.43  \n",
       "1  2.31  \n",
       "2  2.31  \n",
       "3  2.63  \n",
       "4  2.75  "
      ]
     },
     "execution_count": 2,
     "metadata": {},
     "output_type": "execute_result"
    }
   ],
   "source": [
    "import pandas as pd\n",
    "\n",
    "df = pd.read_csv('source/diamonds.csv')\n",
    "df.head()"
   ]
  },
  {
   "cell_type": "code",
   "execution_count": 3,
   "id": "3a7bd741",
   "metadata": {},
   "outputs": [
    {
     "data": {
      "text/plain": [
       "(53940, 11)"
      ]
     },
     "execution_count": 3,
     "metadata": {},
     "output_type": "execute_result"
    }
   ],
   "source": [
    "df.shape"
   ]
  },
  {
   "cell_type": "code",
   "execution_count": 4,
   "id": "d254c5cc",
   "metadata": {},
   "outputs": [],
   "source": [
    "df = df.drop([\"Unnamed: 0\"], axis=1)"
   ]
  },
  {
   "cell_type": "code",
   "execution_count": 5,
   "id": "823ef590",
   "metadata": {},
   "outputs": [],
   "source": [
    "from sklearn.preprocessing import LabelEncoder\n",
    "\n",
    "def encode_labels(data):\n",
    "    categories = (X.dtypes ==\"object\")\n",
    "    cat_cols = list(categories[categories].index)\n",
    "    \n",
    "    feature_label_encoder_dict = {}\n",
    "    for col in cat_cols:\n",
    "        feature_label_encoder_dict[col] = LabelEncoder()\n",
    "        X[col] = feature_label_encoder_dict[col].fit_transform(X[col])"
   ]
  },
  {
   "cell_type": "code",
   "execution_count": 6,
   "id": "91b7278d",
   "metadata": {},
   "outputs": [],
   "source": [
    "from sklearn.preprocessing import StandardScaler\n",
    "\n",
    "def scale_numerical(data):\n",
    "    scaler = StandardScaler()\n",
    "    data[data.columns] = scaler.fit_transform(data[data.columns])"
   ]
  },
  {
   "cell_type": "markdown",
   "id": "9d882508",
   "metadata": {},
   "source": [
    "## Regression"
   ]
  },
  {
   "cell_type": "code",
   "execution_count": 7,
   "id": "6112a255",
   "metadata": {},
   "outputs": [],
   "source": [
    "X = df.drop(\"price\", axis = 1)\n",
    "y = df[\"price\"]"
   ]
  },
  {
   "cell_type": "code",
   "execution_count": 8,
   "id": "8ff1fcee",
   "metadata": {},
   "outputs": [
    {
     "data": {
      "text/html": [
       "<div><div id=c541218f-31d0-486d-ab32-78975e640528 style=\"display:none; background-color:#9D6CFF; color:white; width:200px; height:30px; padding-left:5px; border-radius:4px; flex-direction:row; justify-content:space-around; align-items:center;\" onmouseover=\"this.style.backgroundColor='#BA9BF8'\" onmouseout=\"this.style.backgroundColor='#9D6CFF'\" onclick=\"window.commands?.execute('create-mitosheet-from-dataframe-output');\">See Full Dataframe in Mito</div> <script> if (window.commands.hasCommand('create-mitosheet-from-dataframe-output')) document.getElementById('c541218f-31d0-486d-ab32-78975e640528').style.display = 'flex' </script> <table border=\"1\" class=\"dataframe\">\n",
       "  <thead>\n",
       "    <tr style=\"text-align: right;\">\n",
       "      <th></th>\n",
       "      <th>carat</th>\n",
       "      <th>cut</th>\n",
       "      <th>color</th>\n",
       "      <th>clarity</th>\n",
       "      <th>depth</th>\n",
       "      <th>table</th>\n",
       "      <th>x</th>\n",
       "      <th>y</th>\n",
       "      <th>z</th>\n",
       "    </tr>\n",
       "  </thead>\n",
       "  <tbody>\n",
       "    <tr>\n",
       "      <th>0</th>\n",
       "      <td>0.23</td>\n",
       "      <td>Ideal</td>\n",
       "      <td>E</td>\n",
       "      <td>SI2</td>\n",
       "      <td>61.5</td>\n",
       "      <td>55.0</td>\n",
       "      <td>3.95</td>\n",
       "      <td>3.98</td>\n",
       "      <td>2.43</td>\n",
       "    </tr>\n",
       "    <tr>\n",
       "      <th>1</th>\n",
       "      <td>0.21</td>\n",
       "      <td>Premium</td>\n",
       "      <td>E</td>\n",
       "      <td>SI1</td>\n",
       "      <td>59.8</td>\n",
       "      <td>61.0</td>\n",
       "      <td>3.89</td>\n",
       "      <td>3.84</td>\n",
       "      <td>2.31</td>\n",
       "    </tr>\n",
       "    <tr>\n",
       "      <th>2</th>\n",
       "      <td>0.23</td>\n",
       "      <td>Good</td>\n",
       "      <td>E</td>\n",
       "      <td>VS1</td>\n",
       "      <td>56.9</td>\n",
       "      <td>65.0</td>\n",
       "      <td>4.05</td>\n",
       "      <td>4.07</td>\n",
       "      <td>2.31</td>\n",
       "    </tr>\n",
       "    <tr>\n",
       "      <th>3</th>\n",
       "      <td>0.29</td>\n",
       "      <td>Premium</td>\n",
       "      <td>I</td>\n",
       "      <td>VS2</td>\n",
       "      <td>62.4</td>\n",
       "      <td>58.0</td>\n",
       "      <td>4.20</td>\n",
       "      <td>4.23</td>\n",
       "      <td>2.63</td>\n",
       "    </tr>\n",
       "    <tr>\n",
       "      <th>4</th>\n",
       "      <td>0.31</td>\n",
       "      <td>Good</td>\n",
       "      <td>J</td>\n",
       "      <td>SI2</td>\n",
       "      <td>63.3</td>\n",
       "      <td>58.0</td>\n",
       "      <td>4.34</td>\n",
       "      <td>4.35</td>\n",
       "      <td>2.75</td>\n",
       "    </tr>\n",
       "  </tbody>\n",
       "</table></div>"
      ],
      "text/plain": [
       "   carat      cut color clarity  depth  table     x     y     z\n",
       "0   0.23    Ideal     E     SI2   61.5   55.0  3.95  3.98  2.43\n",
       "1   0.21  Premium     E     SI1   59.8   61.0  3.89  3.84  2.31\n",
       "2   0.23     Good     E     VS1   56.9   65.0  4.05  4.07  2.31\n",
       "3   0.29  Premium     I     VS2   62.4   58.0  4.20  4.23  2.63\n",
       "4   0.31     Good     J     SI2   63.3   58.0  4.34  4.35  2.75"
      ]
     },
     "execution_count": 8,
     "metadata": {},
     "output_type": "execute_result"
    }
   ],
   "source": [
    "X.head()"
   ]
  },
  {
   "cell_type": "code",
   "execution_count": 9,
   "id": "f68ecd01",
   "metadata": {},
   "outputs": [],
   "source": [
    "encode_labels(X)"
   ]
  },
  {
   "cell_type": "code",
   "execution_count": 10,
   "id": "7865b035",
   "metadata": {},
   "outputs": [],
   "source": [
    "scale_numerical(X)"
   ]
  },
  {
   "cell_type": "code",
   "execution_count": 11,
   "id": "c102e466",
   "metadata": {},
   "outputs": [
    {
     "data": {
      "text/html": [
       "<div><div id=a9da2309-f44f-45f5-8854-b88d5949fb0e style=\"display:none; background-color:#9D6CFF; color:white; width:200px; height:30px; padding-left:5px; border-radius:4px; flex-direction:row; justify-content:space-around; align-items:center;\" onmouseover=\"this.style.backgroundColor='#BA9BF8'\" onmouseout=\"this.style.backgroundColor='#9D6CFF'\" onclick=\"window.commands?.execute('create-mitosheet-from-dataframe-output');\">See Full Dataframe in Mito</div> <script> if (window.commands.hasCommand('create-mitosheet-from-dataframe-output')) document.getElementById('a9da2309-f44f-45f5-8854-b88d5949fb0e').style.display = 'flex' </script> <table border=\"1\" class=\"dataframe\">\n",
       "  <thead>\n",
       "    <tr style=\"text-align: right;\">\n",
       "      <th></th>\n",
       "      <th>carat</th>\n",
       "      <th>cut</th>\n",
       "      <th>color</th>\n",
       "      <th>clarity</th>\n",
       "      <th>depth</th>\n",
       "      <th>table</th>\n",
       "      <th>x</th>\n",
       "      <th>y</th>\n",
       "      <th>z</th>\n",
       "    </tr>\n",
       "  </thead>\n",
       "  <tbody>\n",
       "    <tr>\n",
       "      <th>0</th>\n",
       "      <td>-1.198168</td>\n",
       "      <td>-0.538099</td>\n",
       "      <td>-0.937163</td>\n",
       "      <td>-0.484264</td>\n",
       "      <td>-0.174092</td>\n",
       "      <td>-1.099672</td>\n",
       "      <td>-1.587837</td>\n",
       "      <td>-1.536196</td>\n",
       "      <td>-1.571129</td>\n",
       "    </tr>\n",
       "    <tr>\n",
       "      <th>1</th>\n",
       "      <td>-1.240361</td>\n",
       "      <td>0.434949</td>\n",
       "      <td>-0.937163</td>\n",
       "      <td>-1.064117</td>\n",
       "      <td>-1.360738</td>\n",
       "      <td>1.585529</td>\n",
       "      <td>-1.641325</td>\n",
       "      <td>-1.658774</td>\n",
       "      <td>-1.741175</td>\n",
       "    </tr>\n",
       "    <tr>\n",
       "      <th>2</th>\n",
       "      <td>-1.198168</td>\n",
       "      <td>-1.511147</td>\n",
       "      <td>-0.937163</td>\n",
       "      <td>0.095589</td>\n",
       "      <td>-3.385019</td>\n",
       "      <td>3.375663</td>\n",
       "      <td>-1.498691</td>\n",
       "      <td>-1.457395</td>\n",
       "      <td>-1.741175</td>\n",
       "    </tr>\n",
       "    <tr>\n",
       "      <th>3</th>\n",
       "      <td>-1.071587</td>\n",
       "      <td>0.434949</td>\n",
       "      <td>1.414272</td>\n",
       "      <td>0.675442</td>\n",
       "      <td>0.454133</td>\n",
       "      <td>0.242928</td>\n",
       "      <td>-1.364971</td>\n",
       "      <td>-1.317305</td>\n",
       "      <td>-1.287720</td>\n",
       "    </tr>\n",
       "    <tr>\n",
       "      <th>4</th>\n",
       "      <td>-1.029394</td>\n",
       "      <td>-1.511147</td>\n",
       "      <td>2.002131</td>\n",
       "      <td>-0.484264</td>\n",
       "      <td>1.082358</td>\n",
       "      <td>0.242928</td>\n",
       "      <td>-1.240167</td>\n",
       "      <td>-1.212238</td>\n",
       "      <td>-1.117674</td>\n",
       "    </tr>\n",
       "  </tbody>\n",
       "</table></div>"
      ],
      "text/plain": [
       "      carat       cut     color   clarity     depth     table         x  \\\n",
       "0 -1.198168 -0.538099 -0.937163 -0.484264 -0.174092 -1.099672 -1.587837   \n",
       "1 -1.240361  0.434949 -0.937163 -1.064117 -1.360738  1.585529 -1.641325   \n",
       "2 -1.198168 -1.511147 -0.937163  0.095589 -3.385019  3.375663 -1.498691   \n",
       "3 -1.071587  0.434949  1.414272  0.675442  0.454133  0.242928 -1.364971   \n",
       "4 -1.029394 -1.511147  2.002131 -0.484264  1.082358  0.242928 -1.240167   \n",
       "\n",
       "          y         z  \n",
       "0 -1.536196 -1.571129  \n",
       "1 -1.658774 -1.741175  \n",
       "2 -1.457395 -1.741175  \n",
       "3 -1.317305 -1.287720  \n",
       "4 -1.212238 -1.117674  "
      ]
     },
     "execution_count": 11,
     "metadata": {},
     "output_type": "execute_result"
    }
   ],
   "source": [
    "X.head()"
   ]
  },
  {
   "cell_type": "code",
   "execution_count": 12,
   "id": "b72d3b24",
   "metadata": {},
   "outputs": [],
   "source": [
    "from sklearn.model_selection import train_test_split\n",
    "X_train, X_test, y_train, y_test = train_test_split(X, y, test_size=0.20, random_state=42)"
   ]
  },
  {
   "cell_type": "code",
   "execution_count": 13,
   "id": "8aad5c22",
   "metadata": {},
   "outputs": [],
   "source": [
    "from sklearn.metrics import mean_absolute_error,r2_score,mean_squared_error\n",
    "import numpy as np\n",
    "\n",
    "def run_experiment(model):\n",
    "    model.fit(X_train, y_train)\n",
    "    y_pred = model.predict(X_test)\n",
    "    print(\"R^2 : \", r2_score(y_test, y_pred))\n",
    "    print(\"MAE :\", mean_absolute_error(y_test,y_pred))\n",
    "    print(\"RMSE:\",np.sqrt(mean_squared_error(y_test, y_pred)))"
   ]
  },
  {
   "cell_type": "code",
   "execution_count": 14,
   "id": "10bf8257",
   "metadata": {},
   "outputs": [
    {
     "name": "stdout",
     "output_type": "stream",
     "text": [
      "R^2 :  0.8851397433679632\n",
      "MAE : 858.7084697710083\n",
      "RMSE: 1351.263479683125\n"
     ]
    }
   ],
   "source": [
    "from sklearn.linear_model import LinearRegression\n",
    "model = LinearRegression()\n",
    "run_experiment(model)"
   ]
  },
  {
   "cell_type": "code",
   "execution_count": 15,
   "id": "e91732a6",
   "metadata": {},
   "outputs": [
    {
     "name": "stdout",
     "output_type": "stream",
     "text": [
      "R^2 :  0.8848355338431381\n",
      "MAE : 856.7981103209527\n",
      "RMSE: 1353.0517196416642\n"
     ]
    }
   ],
   "source": [
    "from sklearn.linear_model import SGDRegressor\n",
    "model = SGDRegressor()\n",
    "run_experiment(model)"
   ]
  },
  {
   "cell_type": "markdown",
   "id": "b3442f17",
   "metadata": {},
   "source": [
    "## Classification"
   ]
  },
  {
   "cell_type": "code",
   "execution_count": 16,
   "id": "7d72f5a9",
   "metadata": {},
   "outputs": [
    {
     "data": {
      "text/plain": [
       "Ideal        21551\n",
       "Premium      13791\n",
       "Very Good    12082\n",
       "Good          4906\n",
       "Fair          1610\n",
       "Name: cut, dtype: int64"
      ]
     },
     "execution_count": 16,
     "metadata": {},
     "output_type": "execute_result"
    }
   ],
   "source": [
    "df.cut.value_counts()"
   ]
  },
  {
   "cell_type": "code",
   "execution_count": 17,
   "id": "ba5f98f3",
   "metadata": {},
   "outputs": [],
   "source": [
    "def set_target(x):\n",
    "    golden_set = ['Ideal', 'Premium', 'Very Good']\n",
    "    if x in golden_set:\n",
    "        return 'Gold'\n",
    "    return 'Silver'\n",
    "df['target'] = df['cut'].apply(lambda x: set_target(x))"
   ]
  },
  {
   "cell_type": "code",
   "execution_count": 18,
   "id": "8adcb499",
   "metadata": {},
   "outputs": [
    {
     "data": {
      "text/html": [
       "<div><div id=b9ad06e2-28f5-43d7-a7b6-d6ecde359e8f style=\"display:none; background-color:#9D6CFF; color:white; width:200px; height:30px; padding-left:5px; border-radius:4px; flex-direction:row; justify-content:space-around; align-items:center;\" onmouseover=\"this.style.backgroundColor='#BA9BF8'\" onmouseout=\"this.style.backgroundColor='#9D6CFF'\" onclick=\"window.commands?.execute('create-mitosheet-from-dataframe-output');\">See Full Dataframe in Mito</div> <script> if (window.commands.hasCommand('create-mitosheet-from-dataframe-output')) document.getElementById('b9ad06e2-28f5-43d7-a7b6-d6ecde359e8f').style.display = 'flex' </script> <table border=\"1\" class=\"dataframe\">\n",
       "  <thead>\n",
       "    <tr style=\"text-align: right;\">\n",
       "      <th></th>\n",
       "      <th>carat</th>\n",
       "      <th>cut</th>\n",
       "      <th>color</th>\n",
       "      <th>clarity</th>\n",
       "      <th>depth</th>\n",
       "      <th>table</th>\n",
       "      <th>price</th>\n",
       "      <th>x</th>\n",
       "      <th>y</th>\n",
       "      <th>z</th>\n",
       "      <th>target</th>\n",
       "    </tr>\n",
       "  </thead>\n",
       "  <tbody>\n",
       "    <tr>\n",
       "      <th>0</th>\n",
       "      <td>0.23</td>\n",
       "      <td>Ideal</td>\n",
       "      <td>E</td>\n",
       "      <td>SI2</td>\n",
       "      <td>61.5</td>\n",
       "      <td>55.0</td>\n",
       "      <td>326</td>\n",
       "      <td>3.95</td>\n",
       "      <td>3.98</td>\n",
       "      <td>2.43</td>\n",
       "      <td>Gold</td>\n",
       "    </tr>\n",
       "    <tr>\n",
       "      <th>1</th>\n",
       "      <td>0.21</td>\n",
       "      <td>Premium</td>\n",
       "      <td>E</td>\n",
       "      <td>SI1</td>\n",
       "      <td>59.8</td>\n",
       "      <td>61.0</td>\n",
       "      <td>326</td>\n",
       "      <td>3.89</td>\n",
       "      <td>3.84</td>\n",
       "      <td>2.31</td>\n",
       "      <td>Gold</td>\n",
       "    </tr>\n",
       "    <tr>\n",
       "      <th>2</th>\n",
       "      <td>0.23</td>\n",
       "      <td>Good</td>\n",
       "      <td>E</td>\n",
       "      <td>VS1</td>\n",
       "      <td>56.9</td>\n",
       "      <td>65.0</td>\n",
       "      <td>327</td>\n",
       "      <td>4.05</td>\n",
       "      <td>4.07</td>\n",
       "      <td>2.31</td>\n",
       "      <td>Silver</td>\n",
       "    </tr>\n",
       "    <tr>\n",
       "      <th>3</th>\n",
       "      <td>0.29</td>\n",
       "      <td>Premium</td>\n",
       "      <td>I</td>\n",
       "      <td>VS2</td>\n",
       "      <td>62.4</td>\n",
       "      <td>58.0</td>\n",
       "      <td>334</td>\n",
       "      <td>4.20</td>\n",
       "      <td>4.23</td>\n",
       "      <td>2.63</td>\n",
       "      <td>Gold</td>\n",
       "    </tr>\n",
       "    <tr>\n",
       "      <th>4</th>\n",
       "      <td>0.31</td>\n",
       "      <td>Good</td>\n",
       "      <td>J</td>\n",
       "      <td>SI2</td>\n",
       "      <td>63.3</td>\n",
       "      <td>58.0</td>\n",
       "      <td>335</td>\n",
       "      <td>4.34</td>\n",
       "      <td>4.35</td>\n",
       "      <td>2.75</td>\n",
       "      <td>Silver</td>\n",
       "    </tr>\n",
       "  </tbody>\n",
       "</table></div>"
      ],
      "text/plain": [
       "   carat      cut color clarity  depth  table  price     x     y     z  target\n",
       "0   0.23    Ideal     E     SI2   61.5   55.0    326  3.95  3.98  2.43    Gold\n",
       "1   0.21  Premium     E     SI1   59.8   61.0    326  3.89  3.84  2.31    Gold\n",
       "2   0.23     Good     E     VS1   56.9   65.0    327  4.05  4.07  2.31  Silver\n",
       "3   0.29  Premium     I     VS2   62.4   58.0    334  4.20  4.23  2.63    Gold\n",
       "4   0.31     Good     J     SI2   63.3   58.0    335  4.34  4.35  2.75  Silver"
      ]
     },
     "execution_count": 18,
     "metadata": {},
     "output_type": "execute_result"
    }
   ],
   "source": [
    "df.head()"
   ]
  },
  {
   "cell_type": "code",
   "execution_count": 19,
   "id": "75c9ff99",
   "metadata": {},
   "outputs": [],
   "source": [
    "X = df.drop([\"target\", \"cut\"], axis = 1)\n",
    "y = df[\"target\"]"
   ]
  },
  {
   "cell_type": "code",
   "execution_count": 20,
   "id": "1fde38bd",
   "metadata": {},
   "outputs": [],
   "source": [
    "encode_labels(X)\n",
    "scale_numerical(X)"
   ]
  },
  {
   "cell_type": "code",
   "execution_count": 21,
   "id": "960f4073",
   "metadata": {},
   "outputs": [
    {
     "data": {
      "text/html": [
       "<div><div id=550df743-317f-4d1b-9485-8947d6e51cd6 style=\"display:none; background-color:#9D6CFF; color:white; width:200px; height:30px; padding-left:5px; border-radius:4px; flex-direction:row; justify-content:space-around; align-items:center;\" onmouseover=\"this.style.backgroundColor='#BA9BF8'\" onmouseout=\"this.style.backgroundColor='#9D6CFF'\" onclick=\"window.commands?.execute('create-mitosheet-from-dataframe-output');\">See Full Dataframe in Mito</div> <script> if (window.commands.hasCommand('create-mitosheet-from-dataframe-output')) document.getElementById('550df743-317f-4d1b-9485-8947d6e51cd6').style.display = 'flex' </script> <table border=\"1\" class=\"dataframe\">\n",
       "  <thead>\n",
       "    <tr style=\"text-align: right;\">\n",
       "      <th></th>\n",
       "      <th>carat</th>\n",
       "      <th>color</th>\n",
       "      <th>clarity</th>\n",
       "      <th>depth</th>\n",
       "      <th>table</th>\n",
       "      <th>price</th>\n",
       "      <th>x</th>\n",
       "      <th>y</th>\n",
       "      <th>z</th>\n",
       "    </tr>\n",
       "  </thead>\n",
       "  <tbody>\n",
       "    <tr>\n",
       "      <th>0</th>\n",
       "      <td>-1.198168</td>\n",
       "      <td>-0.937163</td>\n",
       "      <td>-0.484264</td>\n",
       "      <td>-0.174092</td>\n",
       "      <td>-1.099672</td>\n",
       "      <td>-0.904095</td>\n",
       "      <td>-1.587837</td>\n",
       "      <td>-1.536196</td>\n",
       "      <td>-1.571129</td>\n",
       "    </tr>\n",
       "    <tr>\n",
       "      <th>1</th>\n",
       "      <td>-1.240361</td>\n",
       "      <td>-0.937163</td>\n",
       "      <td>-1.064117</td>\n",
       "      <td>-1.360738</td>\n",
       "      <td>1.585529</td>\n",
       "      <td>-0.904095</td>\n",
       "      <td>-1.641325</td>\n",
       "      <td>-1.658774</td>\n",
       "      <td>-1.741175</td>\n",
       "    </tr>\n",
       "    <tr>\n",
       "      <th>2</th>\n",
       "      <td>-1.198168</td>\n",
       "      <td>-0.937163</td>\n",
       "      <td>0.095589</td>\n",
       "      <td>-3.385019</td>\n",
       "      <td>3.375663</td>\n",
       "      <td>-0.903844</td>\n",
       "      <td>-1.498691</td>\n",
       "      <td>-1.457395</td>\n",
       "      <td>-1.741175</td>\n",
       "    </tr>\n",
       "    <tr>\n",
       "      <th>3</th>\n",
       "      <td>-1.071587</td>\n",
       "      <td>1.414272</td>\n",
       "      <td>0.675442</td>\n",
       "      <td>0.454133</td>\n",
       "      <td>0.242928</td>\n",
       "      <td>-0.902090</td>\n",
       "      <td>-1.364971</td>\n",
       "      <td>-1.317305</td>\n",
       "      <td>-1.287720</td>\n",
       "    </tr>\n",
       "    <tr>\n",
       "      <th>4</th>\n",
       "      <td>-1.029394</td>\n",
       "      <td>2.002131</td>\n",
       "      <td>-0.484264</td>\n",
       "      <td>1.082358</td>\n",
       "      <td>0.242928</td>\n",
       "      <td>-0.901839</td>\n",
       "      <td>-1.240167</td>\n",
       "      <td>-1.212238</td>\n",
       "      <td>-1.117674</td>\n",
       "    </tr>\n",
       "  </tbody>\n",
       "</table></div>"
      ],
      "text/plain": [
       "      carat     color   clarity     depth     table     price         x  \\\n",
       "0 -1.198168 -0.937163 -0.484264 -0.174092 -1.099672 -0.904095 -1.587837   \n",
       "1 -1.240361 -0.937163 -1.064117 -1.360738  1.585529 -0.904095 -1.641325   \n",
       "2 -1.198168 -0.937163  0.095589 -3.385019  3.375663 -0.903844 -1.498691   \n",
       "3 -1.071587  1.414272  0.675442  0.454133  0.242928 -0.902090 -1.364971   \n",
       "4 -1.029394  2.002131 -0.484264  1.082358  0.242928 -0.901839 -1.240167   \n",
       "\n",
       "          y         z  \n",
       "0 -1.536196 -1.571129  \n",
       "1 -1.658774 -1.741175  \n",
       "2 -1.457395 -1.741175  \n",
       "3 -1.317305 -1.287720  \n",
       "4 -1.212238 -1.117674  "
      ]
     },
     "execution_count": 21,
     "metadata": {},
     "output_type": "execute_result"
    }
   ],
   "source": [
    "X.head()"
   ]
  },
  {
   "cell_type": "code",
   "execution_count": 22,
   "id": "b6b8a0ce",
   "metadata": {},
   "outputs": [],
   "source": [
    "label_encoder = LabelEncoder()\n",
    "y = label_encoder.fit_transform(y)"
   ]
  },
  {
   "cell_type": "code",
   "execution_count": 23,
   "id": "882ce8e2",
   "metadata": {},
   "outputs": [],
   "source": [
    "X_train, X_test, y_train, y_test = train_test_split(X, y, test_size=0.20, random_state=42)"
   ]
  },
  {
   "cell_type": "code",
   "execution_count": 24,
   "id": "877c7376",
   "metadata": {},
   "outputs": [],
   "source": [
    "from sklearn.metrics import plot_confusion_matrix\n",
    "from sklearn.metrics import confusion_matrix\n",
    "from sklearn.metrics import precision_score, recall_score, f1_score, accuracy_score\n",
    "import matplotlib.pyplot as plt"
   ]
  },
  {
   "cell_type": "code",
   "execution_count": 25,
   "id": "63ad8887",
   "metadata": {},
   "outputs": [],
   "source": [
    "from sklearn.metrics import roc_curve,roc_auc_score\n",
    "def plot_roc(model):\n",
    "    y_pred_proba = model.predict_proba(X_test)[::,1]\n",
    "    fpr, tpr, _ = roc_curve(y_test,  y_pred_proba)\n",
    "    auc = roc_auc_score(y_test, y_pred_proba)\n",
    "    plt.plot(fpr,tpr,label='auc=%.3f' % auc, color='#084081')\n",
    "    axis_ranges = [0,1]\n",
    "    plt.plot(axis_ranges, axis_ranges, linestyle='--', color='k', scalex=False, scaley=False)\n",
    "    plt.xlabel('False Positive Rate')\n",
    "    plt.ylabel('True Positive Rate')\n",
    "    plt.legend()\n",
    "    plt.grid()\n",
    "    plt.show()"
   ]
  },
  {
   "cell_type": "code",
   "execution_count": 26,
   "id": "36befb41",
   "metadata": {},
   "outputs": [],
   "source": [
    "def run_experiment(model):\n",
    "    model.fit(X_train, y_train)\n",
    "    y_pred = model.predict(X_test)\n",
    "    plot_confusion_matrix(model, X_test, y_test, cmap='GnBu') \n",
    "    plt.rcParams[\"font.size\"] = \"15\"\n",
    "    plt.show()\n",
    "    [tp,fp], [fn,tn] = confusion_matrix(y_test, y_pred)\n",
    "    \n",
    "    print('Precision: %.3f' % precision_score(y_test, y_pred))\n",
    "    print('Recall: %.3f' % recall_score(y_test, y_pred))\n",
    "    print('F1: %.3f' % f1_score(y_test, y_pred))\n",
    "    print('Accuracy: %.3f' % accuracy_score(y_test, y_pred))\n",
    "    plot_roc(model)"
   ]
  },
  {
   "cell_type": "code",
   "execution_count": 27,
   "id": "e61419e9",
   "metadata": {},
   "outputs": [
    {
     "data": {
      "image/png": "[encoded data removed]",
      "text/plain": [
       "<Figure size 432x288 with 2 Axes>"
      ]
     },
     "metadata": {
      "needs_background": "light"
     },
     "output_type": "display_data"
    },
    {
     "name": "stdout",
     "output_type": "stream",
     "text": [
      "Precision: 0.880\n",
      "Recall: 0.781\n",
      "F1: 0.828\n",
      "Accuracy: 0.960\n"
     ]
    },
    {
     "data": {
      "image/png": "[encoded data removed]",
      "text/plain": [
       "<Figure size 432x288 with 1 Axes>"
      ]
     },
     "metadata": {
      "needs_background": "light"
     },
     "output_type": "display_data"
    }
   ],
   "source": [
    "from sklearn.ensemble import RandomForestClassifier\n",
    "\n",
    "model = RandomForestClassifier()\n",
    "run_experiment(model)"
   ]
  },
  {
   "cell_type": "code",
   "execution_count": 28,
   "id": "0557f11d",
   "metadata": {},
   "outputs": [
    {
     "data": {
      "image/png": "[encoded data removed]",
      "text/plain": [
       "<Figure size 432x288 with 2 Axes>"
      ]
     },
     "metadata": {
      "needs_background": "light"
     },
     "output_type": "display_data"
    },
    {
     "name": "stdout",
     "output_type": "stream",
     "text": [
      "Precision: 0.778\n",
      "Recall: 0.776\n",
      "F1: 0.777\n",
      "Accuracy: 0.945\n"
     ]
    },
    {
     "data": {
      "image/png": "[encoded data removed]",
      "text/plain": [
       "<Figure size 432x288 with 1 Axes>"
      ]
     },
     "metadata": {
      "needs_background": "light"
     },
     "output_type": "display_data"
    }
   ],
   "source": [
    "from sklearn.tree import DecisionTreeClassifier\n",
    "\n",
    "model = DecisionTreeClassifier()\n",
    "run_experiment(model)"
   ]
  },
  {
   "cell_type": "markdown",
   "id": "be53ebce",
   "metadata": {},
   "source": [
    "## Clustering"
   ]
  },
  {
   "cell_type": "code",
   "execution_count": 29,
   "id": "37b27905",
   "metadata": {},
   "outputs": [],
   "source": [
    "X = df[['price', 'carat']]"
   ]
  },
  {
   "cell_type": "code",
   "execution_count": 30,
   "id": "84452532",
   "metadata": {
    "scrolled": true
   },
   "outputs": [
    {
     "data": {
      "image/png": "[encoded data removed]",
      "text/plain": [
       "<Figure size 432x288 with 1 Axes>"
      ]
     },
     "metadata": {
      "needs_background": "light"
     },
     "output_type": "display_data"
    }
   ],
   "source": [
    "plt.scatter(X['price'],X['carat'], color='#40B7AD')\n",
    "plt.xlabel('Price')\n",
    "plt.ylabel('Carat')\n",
    "plt.grid()\n",
    "plt.show()"
   ]
  },
  {
   "cell_type": "code",
   "execution_count": 31,
   "id": "d0c443c6",
   "metadata": {},
   "outputs": [
    {
     "data": {
      "text/plain": [
       "array([1, 1, 1, ..., 1, 1, 1], dtype=int32)"
      ]
     },
     "execution_count": 31,
     "metadata": {},
     "output_type": "execute_result"
    }
   ],
   "source": [
    "from sklearn.cluster import KMeans\n",
    "\n",
    "model = KMeans(n_clusters=2)\n",
    "labels = model.fit_predict(X)\n",
    "labels"
   ]
  },
  {
   "cell_type": "code",
   "execution_count": 32,
   "id": "703a53bd",
   "metadata": {},
   "outputs": [
    {
     "data": {
      "image/png": "[encoded data removed]",
      "text/plain": [
       "<Figure size 432x288 with 1 Axes>"
      ]
     },
     "metadata": {
      "needs_background": "light"
     },
     "output_type": "display_data"
    }
   ],
   "source": [
    "from matplotlib.colors import ListedColormap\n",
    "cmap = ListedColormap(['#40B7AD', '#084081'])\n",
    "plt.scatter(X['price'],X['carat'], c=labels, cmap=cmap)\n",
    "plt.xlabel('Price')\n",
    "plt.ylabel('Carat')\n",
    "plt.grid()\n",
    "plt.show()"
   ]
  },
  {
   "cell_type": "code",
   "execution_count": 33,
   "id": "e4c3682b",
   "metadata": {},
   "outputs": [
    {
     "data": {
      "text/plain": [
       "0.7077840128371987"
      ]
     },
     "execution_count": 33,
     "metadata": {},
     "output_type": "execute_result"
    }
   ],
   "source": [
    "from sklearn.metrics import silhouette_score\n",
    "\n",
    "silhouette_score(X,labels)"
   ]
  },
  {
   "cell_type": "code",
   "execution_count": 34,
   "id": "e4c5c8fc",
   "metadata": {},
   "outputs": [
    {
     "data": {
      "image/png": "[encoded data removed]",
      "text/plain": [
       "<Figure size 432x288 with 1 Axes>"
      ]
     },
     "metadata": {
      "needs_background": "light"
     },
     "output_type": "display_data"
    }
   ],
   "source": [
    "# elbow method\n",
    "sse = {}\n",
    "for i in range(2,10):\n",
    "    model = KMeans(n_clusters=i)\n",
    "    labels = model.fit_predict(X)\n",
    "    sse[i] = model.inertia_\n",
    "plt.plot(sse.keys(), sse.values(),color='#084081')\n",
    "plt.grid()\n",
    "plt.xlabel('Number of Clusters')\n",
    "plt.ylabel('SSE')\n",
    "plt.show()"
   ]
  },
  {
   "cell_type": "code",
   "execution_count": null,
   "id": "cba8f0af",
   "metadata": {},
   "outputs": [],
   "source": []
  }
 ],
 "metadata": {
  "kernelspec": {
   "display_name": "Python 3 (ipykernel)",
   "language": "python",
   "name": "python3"
  },
  "language_info": {
   "codemirror_mode": {
    "name": "ipython",
    "version": 3
   },
   "file_extension": ".py",
   "mimetype": "text/x-python",
   "name": "python",
   "nbconvert_exporter": "python",
   "pygments_lexer": "ipython3",
   "version": "3.8.10"
  }
 },
 "nbformat": 4,
 "nbformat_minor": 5
}
