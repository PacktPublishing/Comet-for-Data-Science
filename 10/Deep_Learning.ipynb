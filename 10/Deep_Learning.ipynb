{
 "cells": [
  {
   "cell_type": "markdown",
   "metadata": {
    "colab": {
     "base_uri": "https://localhost:8080/"
    },
    "id": "ziJD4Bprv3IW",
    "outputId": "5d9e90d8-6c62-4084-84eb-66b296552d38"
   },
   "source": [
    "# Deep Learning"
   ]
  },
  {
   "cell_type": "markdown",
   "metadata": {
    "id": "a7VZ1sT825uy"
   },
   "source": [
    "## Importing required libraries"
   ]
  },
  {
   "cell_type": "code",
   "execution_count": null,
   "metadata": {
    "id": "Q-fDzRuMmebI"
   },
   "outputs": [],
   "source": [
    "import os\n",
    "os.environ['COMET_KERAS_HISTOGRAM_ACTIVATION_INDEX_LIST'] = \"1,2\"\n",
    "\n",
    "from comet_ml import Experiment, ExistingExperiment\n",
    "import tensorflow as tf\n",
    "from tensorflow import keras\n",
    "import numpy as np"
   ]
  },
  {
   "cell_type": "markdown",
   "metadata": {
    "id": "8hzr05dL3BkU"
   },
   "source": [
    "## Loading Dataset"
   ]
  },
  {
   "cell_type": "code",
   "execution_count": null,
   "metadata": {
    "colab": {
     "base_uri": "https://localhost:8080/"
    },
    "id": "DZ-8W9sf3At1",
    "outputId": "df7f5068-3e22-4803-c3a9-316d938e96ce"
   },
   "outputs": [],
   "source": [
    "fashion_mnist = keras.datasets.fashion_mnist\n",
    "(train_images, train_labels), (test_images, test_labels) = \\\n",
    "    fashion_mnist.load_data()\n",
    "\n",
    "# Names of the integer classes, i.e., 0 -> T-short/top, 1 -> Trouser, etc.\n",
    "class_names = ['T-shirt/top', 'Trouser', 'Pullover', 'Dress', 'Coat', \n",
    "    'Sandal', 'Shirt', 'Sneaker', 'Bag', 'Ankle boot']"
   ]
  },
  {
   "cell_type": "markdown",
   "metadata": {
    "id": "G5rsDyZpyuh9"
   },
   "source": [
    "## Plotting some samples"
   ]
  },
  {
   "cell_type": "code",
   "execution_count": null,
   "metadata": {
    "colab": {
     "base_uri": "https://localhost:8080/",
     "height": 248
    },
    "id": "_fl3C6ijTJIT",
    "outputId": "e8887774-4d28-445d-9125-38974a118591"
   },
   "outputs": [],
   "source": [
    "from matplotlib import pyplot as plt\n",
    "plt.imshow(test_images[4])\n",
    "plt.axis('off')\n",
    "plt.savefig('shoes.png')\n",
    "plt.show()"
   ]
  },
  {
   "cell_type": "code",
   "execution_count": null,
   "metadata": {
    "colab": {
     "base_uri": "https://localhost:8080/",
     "height": 683
    },
    "id": "2bRSAYFov4aO",
    "outputId": "049d778e-cc82-46f7-933d-0ffe3a6b79fb"
   },
   "outputs": [],
   "source": [
    "n_row = 5\n",
    "n_col = 5\n",
    "_, axs = plt.subplots(n_row, n_col, figsize=(12, 12))\n",
    "axs = axs.flatten()\n",
    "for img, ax in zip(train_images, axs):\n",
    "    ax.imshow(img)\n",
    "    ax.axis('off')\n",
    "plt.savefig('examples.png')\n",
    "plt.show()"
   ]
  },
  {
   "cell_type": "markdown",
   "metadata": {
    "id": "8JmR3vTWahES"
   },
   "source": [
    "## Building the Gradio interface"
   ]
  },
  {
   "cell_type": "code",
   "execution_count": null,
   "metadata": {
    "id": "1Ijo8ckgLeba"
   },
   "outputs": [],
   "source": [
    "import gradio as gr\n",
    "\n",
    "model = None\n",
    "def predict(image):\n",
    "  image = image.reshape(-1, 28, 28, 1)\n",
    "  prediction = model.predict(image).flatten()\n",
    "  return {class_names[i]: float(prediction[i]) for i in range(len(class_names))}"
   ]
  },
  {
   "cell_type": "code",
   "execution_count": null,
   "metadata": {
    "colab": {
     "base_uri": "https://localhost:8080/"
    },
    "id": "YfjUm7gIDBDq",
    "outputId": "9fa33640-6f00-4f92-c801-024b7fd31927"
   },
   "outputs": [],
   "source": [
    "# initializing the input component\n",
    "image = gr.inputs.Image(shape=(28, 28)) \n",
    "# initializing the output component \n",
    "label = gr.outputs.Label()\n",
    "io = gr.Interface(fn = predict,inputs = image,outputs = label, title=\"Image Classification\")\n",
    "io.launch(inline=False)\n"
   ]
  },
  {
   "cell_type": "markdown",
   "metadata": {
    "id": "55M_0zom3ItX"
   },
   "source": [
    "## Creating Comet Experiment"
   ]
  },
  {
   "cell_type": "code",
   "execution_count": null,
   "metadata": {
    "colab": {
     "base_uri": "https://localhost:8080/"
    },
    "id": "yQuoR_UW4qjc",
    "outputId": "3f633c14-15a6-471e-c2d1-a81a3c6863f2"
   },
   "outputs": [],
   "source": [
    "#experiment = Experiment(api_key='eLh0cH1J7CmpKR7x153LqCTZN',project_name='deep-learning', workspace='packt',auto_histogram_weight_logging=True,auto_histogram_gradient_logging=True,auto_histogram_activation_logging=True)\n",
    "experiment = Experiment()"
   ]
  },
  {
   "cell_type": "code",
   "execution_count": null,
   "metadata": {
    "id": "t8QXbvwb5UUH"
   },
   "outputs": [],
   "source": [
    "experiment_key = experiment.get_key()"
   ]
  },
  {
   "cell_type": "code",
   "execution_count": null,
   "metadata": {
    "colab": {
     "base_uri": "https://localhost:8080/"
    },
    "id": "OTLIVcK89D2Q",
    "outputId": "2ca343ae-3e4d-484d-9be4-3117e1fd6257"
   },
   "outputs": [],
   "source": [
    "io.integrate(comet_ml=experiment)"
   ]
  },
  {
   "cell_type": "code",
   "execution_count": null,
   "metadata": {
    "colab": {
     "base_uri": "https://localhost:8080/"
    },
    "id": "FVG3PL595yAI",
    "outputId": "c97cc04a-bae9-4354-8ce0-196af24cc546"
   },
   "outputs": [],
   "source": [
    "experiment = ExistingExperiment(previous_experiment=experiment_key)"
   ]
  },
  {
   "cell_type": "markdown",
   "metadata": {
    "id": "FS6P20JE3Of8"
   },
   "source": [
    "## Save some images"
   ]
  },
  {
   "cell_type": "code",
   "execution_count": null,
   "metadata": {
    "id": "S1hk88Lg0Hs0"
   },
   "outputs": [],
   "source": [
    "# Reshape images for log api\n",
    "train_img = np.reshape(train_images[0:5], (-1, 28, 28, 1))\n",
    "test_img = np.reshape(test_images[0:5], (-1, 28, 28, 1))\n",
    "\n",
    "@tf.function\n",
    "def trace_model(x):\n",
    "    return model(x)\n",
    "\n",
    "LOG_DIR = 'logs'\n",
    "file_writer = tf.summary.create_file_writer(LOG_DIR)\n",
    "with file_writer.as_default():\n",
    "  tf.summary.image(\"Training data\", train_img, step=0)\n",
    "  tf.summary.image(\"Test data\", test_img, step=0)\n"
   ]
  },
  {
   "cell_type": "markdown",
   "metadata": {
    "id": "-Vi9IF9R4t6q"
   },
   "source": [
    "## Building and fitting the model"
   ]
  },
  {
   "cell_type": "code",
   "execution_count": null,
   "metadata": {
    "colab": {
     "base_uri": "https://localhost:8080/"
    },
    "id": "kI8a7z91rGEa",
    "outputId": "6e352ed2-2dc4-4f88-b0df-d682e98edb0c"
   },
   "outputs": [],
   "source": [
    "model = keras.models.Sequential([\n",
    "    keras.layers.Flatten(input_shape=(28, 28)),\n",
    "    keras.layers.Dense(32, activation='relu'),\n",
    "    keras.layers.Dense(10, activation='softmax')\n",
    "])\n",
    "\n",
    "model.compile(\n",
    "    optimizer='adam', \n",
    "    loss='sparse_categorical_crossentropy',\n",
    "    metrics=['accuracy']\n",
    ")\n",
    "\n",
    "model.fit(\n",
    "    train_images,\n",
    "    train_labels,\n",
    "    epochs=8,\n",
    "    validation_data=(test_images, test_labels),\n",
    ")"
   ]
  },
  {
   "cell_type": "code",
   "execution_count": null,
   "metadata": {
    "colab": {
     "base_uri": "https://localhost:8080/"
    },
    "id": "JDv4p-_gykXo",
    "outputId": "980723e1-e884-4669-cbdf-e39986ac422b"
   },
   "outputs": [],
   "source": [
    "print(model.summary())"
   ]
  },
  {
   "cell_type": "markdown",
   "metadata": {
    "id": "NCoDHuMHr-lc"
   },
   "source": [
    "## Plotting the model"
   ]
  },
  {
   "cell_type": "code",
   "execution_count": null,
   "metadata": {
    "colab": {
     "base_uri": "https://localhost:8080/",
     "height": 369
    },
    "id": "nkGQrPNzmA0F",
    "outputId": "c0a83676-5b71-498d-a202-e09b0b2b4022"
   },
   "outputs": [],
   "source": [
    "tf.keras.utils.plot_model(model, expand_nested=True)"
   ]
  },
  {
   "cell_type": "markdown",
   "metadata": {
    "id": "Zy6AZ36c5DUM"
   },
   "source": [
    "## Logging confusion matrix"
   ]
  },
  {
   "cell_type": "code",
   "execution_count": null,
   "metadata": {
    "colab": {
     "base_uri": "https://localhost:8080/"
    },
    "id": "NJ9m4ZKV2WtH",
    "outputId": "6b43a755-e024-4701-8cfc-f03af0e28c0b"
   },
   "outputs": [],
   "source": [
    "preds = model.predict(test_images)\n",
    "experiment.log_confusion_matrix(test_labels, preds)    "
   ]
  },
  {
   "cell_type": "code",
   "execution_count": null,
   "metadata": {
    "colab": {
     "base_uri": "https://localhost:8080/"
    },
    "id": "vYBwVGsj3LDV",
    "outputId": "03ef0b00-14db-4847-8bc4-5921ccc171b6"
   },
   "outputs": [],
   "source": [
    "experiment.end()"
   ]
  }
 ],
 "metadata": {
  "colab": {
   "collapsed_sections": [],
   "name": "Deep Learning.ipynb",
   "provenance": []
  },
  "kernelspec": {
   "display_name": "Python 3 (ipykernel)",
   "language": "python",
   "name": "python3"
  },
  "language_info": {
   "codemirror_mode": {
    "name": "ipython",
    "version": 3
   },
   "file_extension": ".py",
   "mimetype": "text/x-python",
   "name": "python",
   "nbconvert_exporter": "python",
   "pygments_lexer": "ipython3",
   "version": "3.8.10"
  }
 },
 "nbformat": 4,
 "nbformat_minor": 1
}
